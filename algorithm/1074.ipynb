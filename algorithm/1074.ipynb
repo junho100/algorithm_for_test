{
 "cells": [
  {
   "cell_type": "code",
   "execution_count": 19,
   "metadata": {},
   "outputs": [
    {
     "name": "stdout",
     "output_type": "stream",
     "text": [
      "3 7 7\n",
      "4\n",
      "4\n",
      "4\n",
      "63\n"
     ]
    }
   ],
   "source": [
    "result = 0\n",
    "def getQu(N,x, y):\n",
    "    if (x<=(2**(N-1))-1) and (y<=(2**(N-1))-1):\n",
    "        return 1\n",
    "    elif (x>=2**(N-1)) and (y>=2**(N-1)):\n",
    "        return 4\n",
    "    elif x < y:\n",
    "        return 2\n",
    "    else:\n",
    "        return 3\n",
    "\n",
    "def Z(N, x, y):\n",
    "    global result\n",
    "    if N == 1:\n",
    "        print(result + (getQu(N, x, y)-1))\n",
    "        return\n",
    "    else:\n",
    "        result += (getQu(N, x, y)-1)*(4**(N-1))\n",
    "        if getQu(N, x, y) == 2:\n",
    "            y = y - 2**(N-1)\n",
    "        elif getQu(N, x, y) == 3:\n",
    "            x = x - 2**(N-1)\n",
    "        elif getQu(N, x, y) == 4:\n",
    "            x = x - 2**(N-1)\n",
    "            y = y - 2**(N-1)\n",
    "        return Z(N-1, x, y)\n",
    "    \n",
    "N, x, y = map(int, input().split())\n",
    "Z(N, x, y)"
   ]
  },
  {
   "cell_type": "code",
   "execution_count": 21,
   "metadata": {},
   "outputs": [
    {
     "name": "stdout",
     "output_type": "stream",
     "text": [
      "3 7 7\n",
      "48\n",
      "60\n",
      "63\n"
     ]
    }
   ],
   "source": []
  },
  {
   "cell_type": "code",
   "execution_count": null,
   "metadata": {},
   "outputs": [],
   "source": []
  }
 ],
 "metadata": {
  "kernelspec": {
   "display_name": "Python 3",
   "language": "python",
   "name": "python3"
  },
  "language_info": {
   "codemirror_mode": {
    "name": "ipython",
    "version": 3
   },
   "file_extension": ".py",
   "mimetype": "text/x-python",
   "name": "python",
   "nbconvert_exporter": "python",
   "pygments_lexer": "ipython3",
   "version": "3.7.3"
  }
 },
 "nbformat": 4,
 "nbformat_minor": 4
}
