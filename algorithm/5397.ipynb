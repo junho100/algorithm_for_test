{
 "cells": [
  {
   "cell_type": "markdown",
   "metadata": {},
   "source": [
    "# <5397> 키로거"
   ]
  },
  {
   "cell_type": "code",
   "execution_count": null,
   "metadata": {},
   "outputs": [],
   "source": [
    "def Stack(data):\n",
    "    stackR = []\n",
    "    stackL = []\n",
    "    for ele in data:\n",
    "        if ele == '<':\n",
    "            if len(stackL) == 0:\n",
    "                continue\n",
    "            else:\n",
    "                tmp = stackL.pop()\n",
    "                stackR.append(tmp)\n",
    "                continue\n",
    "        if ele == '>':\n",
    "            if len(stackR) == 0:\n",
    "                continue\n",
    "            else:\n",
    "                tmp = stackR.pop()\n",
    "                stackL.append(tmp)\n",
    "                continue\n",
    "        if ele == '-':\n",
    "            if len(stackL) == 0:\n",
    "                continue\n",
    "            else:\n",
    "                stackL.pop()\n",
    "                continue\n",
    "        else:\n",
    "            stackL.append(ele)\n",
    "            continue\n",
    "    stackR = list(reversed(stackR))\n",
    "    stackL = stackL + stackR\n",
    "    print(''.join(stackL))\n",
    "\n",
    "t_case = int(input())\n",
    "for _ in range(t_case):\n",
    "    data = list(map(str, input()))\n",
    "    Stack(data)"
   ]
  }
 ],
 "metadata": {
  "kernelspec": {
   "display_name": "Python 3",
   "language": "python",
   "name": "python3"
  },
  "language_info": {
   "codemirror_mode": {
    "name": "ipython",
    "version": 3
   },
   "file_extension": ".py",
   "mimetype": "text/x-python",
   "name": "python",
   "nbconvert_exporter": "python",
   "pygments_lexer": "ipython3",
   "version": "3.7.3"
  }
 },
 "nbformat": 4,
 "nbformat_minor": 4
}
