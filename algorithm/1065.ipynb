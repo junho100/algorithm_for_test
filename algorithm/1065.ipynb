{
 "cells": [
  {
   "cell_type": "code",
   "execution_count": 10,
   "metadata": {},
   "outputs": [
    {
     "name": "stdout",
     "output_type": "stream",
     "text": [
      "105\n"
     ]
    }
   ],
   "source": [
    "def Han(data):\n",
    "    if data < 100:\n",
    "        if data < 10:\n",
    "            return data\n",
    "        else:\n",
    "            return data\n",
    "    else:\n",
    "        count = 99\n",
    "        for i in range(100, data+1, 1):\n",
    "            arr = list(str(i))\n",
    "            isHan = True\n",
    "            for j in range(len(arr)-2):\n",
    "                if (int(arr[j]) - int(arr[j+1])) != (int(arr[j+1])- int(arr[j+2])):\n",
    "                    isHan = False\n",
    "            if isHan == True:\n",
    "                count += 1\n",
    "        return count\n",
    "num = int(input())\n",
    "print(Han(num))"
   ]
  },
  {
   "cell_type": "code",
   "execution_count": null,
   "metadata": {},
   "outputs": [],
   "source": []
  }
 ],
 "metadata": {
  "kernelspec": {
   "display_name": "Python 3",
   "language": "python",
   "name": "python3"
  },
  "language_info": {
   "codemirror_mode": {
    "name": "ipython",
    "version": 3
   },
   "file_extension": ".py",
   "mimetype": "text/x-python",
   "name": "python",
   "nbconvert_exporter": "python",
   "pygments_lexer": "ipython3",
   "version": "3.7.3"
  }
 },
 "nbformat": 4,
 "nbformat_minor": 4
}
