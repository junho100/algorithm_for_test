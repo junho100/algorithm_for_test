{
 "cells": [
  {
   "cell_type": "markdown",
   "metadata": {},
   "source": [
    "# <2920> 음계"
   ]
  },
  {
   "cell_type": "code",
   "execution_count": null,
   "metadata": {},
   "outputs": [],
   "source": [
    "def isAs(data):\n",
    "    acen = False\n",
    "    for i in range(8):\n",
    "        if data[i]==i+1:\n",
    "            if i==7:\n",
    "                acen = True\n",
    "                break\n",
    "            continue\n",
    "        else:\n",
    "            break\n",
    "    return acen\n",
    "\n",
    "def isDe(data):\n",
    "    Des = False\n",
    "    for i in range(7, -1, -1):\n",
    "        if data[i]==8-i:\n",
    "            if i==0:\n",
    "                Des = True\n",
    "                break\n",
    "            continue\n",
    "        else:\n",
    "            break\n",
    "    return Des\n",
    "\n",
    "a = list(map(int, input().split()))\n",
    "if isAs(a)==True:\n",
    "    print(\"ascending\")\n",
    "elif isDe(a)==True:\n",
    "    print(\"descending\")\n",
    "else:\n",
    "    print(\"mixed\")"
   ]
  }
 ],
 "metadata": {
  "kernelspec": {
   "display_name": "Python 3",
   "language": "python",
   "name": "python3"
  },
  "language_info": {
   "codemirror_mode": {
    "name": "ipython",
    "version": 3
   },
   "file_extension": ".py",
   "mimetype": "text/x-python",
   "name": "python",
   "nbconvert_exporter": "python",
   "pygments_lexer": "ipython3",
   "version": "3.7.3"
  }
 },
 "nbformat": 4,
 "nbformat_minor": 4
}
