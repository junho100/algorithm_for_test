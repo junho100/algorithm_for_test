{
 "cells": [
  {
   "cell_type": "markdown",
   "metadata": {},
   "source": [
    "# <4195> 친구 네트워크"
   ]
  },
  {
   "cell_type": "code",
   "execution_count": null,
   "metadata": {},
   "outputs": [],
   "source": [
    "def Find(a, parent):\n",
    "    if parent[a] == a:\n",
    "        return a\n",
    "    else:\n",
    "        p = Find(parent[a], parent)\n",
    "        parent[a] = p\n",
    "        return parent[a]\n",
    "\n",
    "def Union(a, b):\n",
    "    a = Find(a, parent)\n",
    "    b = Find(b, parent)\n",
    "    \n",
    "    if a != b:\n",
    "        parent[b] = a\n",
    "        number[a] += number[b]\n",
    "    print(number[a])\n",
    "    \n",
    "t_case = int(input())\n",
    "\n",
    "for _ in range(t_case):\n",
    "    numOfNet = int(input())\n",
    "    parent = dict()\n",
    "    number = dict()\n",
    "    for Net in range(numOfNet):\n",
    "        a, b = map(str, input().split())\n",
    "        if a not in parent:\n",
    "            parent[a] = a\n",
    "            number[a] = 1\n",
    "        if b not in parent:\n",
    "            parent[b] = b\n",
    "            number[b] = 1\n",
    "        \n",
    "        Union(a,b)"
   ]
  }
 ],
 "metadata": {
  "kernelspec": {
   "display_name": "Python 3",
   "language": "python",
   "name": "python3"
  },
  "language_info": {
   "codemirror_mode": {
    "name": "ipython",
    "version": 3
   },
   "file_extension": ".py",
   "mimetype": "text/x-python",
   "name": "python",
   "nbconvert_exporter": "python",
   "pygments_lexer": "ipython3",
   "version": "3.7.3"
  }
 },
 "nbformat": 4,
 "nbformat_minor": 4
}
