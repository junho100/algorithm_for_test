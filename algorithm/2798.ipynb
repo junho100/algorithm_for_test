{
 "cells": [
  {
   "cell_type": "markdown",
   "metadata": {},
   "source": [
    "# <2798> 블랙잭"
   ]
  },
  {
   "cell_type": "code",
   "execution_count": null,
   "metadata": {},
   "outputs": [],
   "source": [
    "num, lim = map(int, input().split())\n",
    "arr = list(map(int, input().split()))\n",
    "Max = 0\n",
    "for i in range(len(arr)-1, -1, -1):\n",
    "    for j in range(i-1, -1, -1):\n",
    "        for k in range(j-1, -1, -1):\n",
    "            if arr[i] + arr[j] + arr[k] > Max and arr[i] + arr[j] + arr[k] <= lim:\n",
    "                Max = arr[i] + arr[j] + arr[k]\n",
    "               \n",
    "print(Max)\n",
    "                "
   ]
  }
 ],
 "metadata": {
  "kernelspec": {
   "display_name": "Python 3",
   "language": "python",
   "name": "python3"
  },
  "language_info": {
   "codemirror_mode": {
    "name": "ipython",
    "version": 3
   },
   "file_extension": ".py",
   "mimetype": "text/x-python",
   "name": "python",
   "nbconvert_exporter": "python",
   "pygments_lexer": "ipython3",
   "version": "3.7.3"
  }
 },
 "nbformat": 4,
 "nbformat_minor": 4
}
