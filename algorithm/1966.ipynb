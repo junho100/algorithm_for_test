{
 "cells": [
  {
   "cell_type": "markdown",
   "metadata": {},
   "source": [
    "# <1966> 프린터 큐"
   ]
  },
  {
   "cell_type": "code",
   "execution_count": null,
   "metadata": {},
   "outputs": [],
   "source": [
    "def queuePrint(data, t_index):\n",
    "    queue = [i for i in enumerate(data)]\n",
    "    count = 0\n",
    "    while True:\n",
    "        MAX = queue[0][1]\n",
    "        for j in range(len(queue)):\n",
    "            if MAX < queue[j][1]:\n",
    "                MAX = queue[j][1]\n",
    "        if MAX == queue[0][1]:\n",
    "            if queue[0][0]==t_index:\n",
    "                count = count+1\n",
    "                return count\n",
    "            else:\n",
    "                count = count+1\n",
    "                del queue[0]\n",
    "                continue\n",
    "        else:\n",
    "            queue.append(queue[0])\n",
    "            del queue[0]\n",
    "            continue\n",
    " \n",
    "t_case = int(input())\n",
    "for i in range(t_case):\n",
    "    num, t_index = map(int, input().split())\n",
    "    case = list(map(int, input().split()))\n",
    "    print(queuePrint(case, t_index))"
   ]
  }
 ],
 "metadata": {
  "kernelspec": {
   "display_name": "Python 3",
   "language": "python",
   "name": "python3"
  },
  "language_info": {
   "codemirror_mode": {
    "name": "ipython",
    "version": 3
   },
   "file_extension": ".py",
   "mimetype": "text/x-python",
   "name": "python",
   "nbconvert_exporter": "python",
   "pygments_lexer": "ipython3",
   "version": "3.7.3"
  }
 },
 "nbformat": 4,
 "nbformat_minor": 4
}
